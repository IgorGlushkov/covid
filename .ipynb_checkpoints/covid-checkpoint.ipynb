{
 "cells": [
  {
   "cell_type": "code",
   "execution_count": 2,
   "metadata": {},
   "outputs": [],
   "source": [
    "import pandas as pd\n",
    "from datetime import datetime\n",
    "import requests\n",
    "import time\n",
    "import bs4\n",
    "import re\n",
    "import json\n",
    "from apscheduler.schedulers.blocking import BlockingScheduler\n",
    "import logging"
   ]
  },
  {
   "cell_type": "code",
   "execution_count": 3,
   "metadata": {},
   "outputs": [],
   "source": [
    "base_url='https://стопкоронавирус.рф/'"
   ]
  },
  {
   "cell_type": "code",
   "execution_count": 4,
   "metadata": {},
   "outputs": [],
   "source": [
    "filename='logfile.log'\n",
    "def log(msg):\n",
    "    logging.basicConfig(format='%(asctime)s %(message)s',\n",
    "        datefmt='%m/%d/%Y %I:%M:%S %p',\n",
    "        filename=filename)\n",
    "    logging.warning(msg)"
   ]
  },
  {
   "cell_type": "code",
   "execution_count": 5,
   "metadata": {},
   "outputs": [],
   "source": [
    "def get_session(url):\n",
    "    url = url\n",
    "    s = requests.session()\n",
    "    r = s.get(url)\n",
    "    return(r)"
   ]
  },
  {
   "cell_type": "code",
   "execution_count": 6,
   "metadata": {},
   "outputs": [],
   "source": [
    "def get_data(base_url):\n",
    "    currtime = time.localtime()\n",
    "    date=time.strftime('%Y-%m-%d',currtime)\n",
    "    r = get_session(base_url)\n",
    "    soup = bs4.BeautifulSoup(r.text,'html.parser')\n",
    "    date_note=soup.find_all('div',attrs={'class':'cv-banner__description'})\n",
    "    date_text=date_note[0].string\n",
    "    reg_table = soup.find_all('div', attrs={'class':'d-map__list'})\n",
    "    res=pd.DataFrame(columns=['date','name','sick','healed','died','date_text'])\n",
    "    for tr in reg_table[0].find('table'):\n",
    "        tmp=dict()\n",
    "        name=tr.find('th').string\n",
    "        sick=tr.find_all('td')[0].get_text(' ')\n",
    "        healed=tr.find_all('td')[1].get_text(' ')\n",
    "        died=tr.find_all('td')[2].get_text(' ')\n",
    "        tmp['name']=name\n",
    "        tmp['sick']=sick\n",
    "        tmp['healed']=healed\n",
    "        tmp['died']=died\n",
    "        tmp['date_text']=date_text\n",
    "        tmp['date']=date\n",
    "        res=res.append(tmp,ignore_index=True)\n",
    "    return res\n",
    "    "
   ]
  },
  {
   "cell_type": "code",
   "execution_count": 7,
   "metadata": {},
   "outputs": [],
   "source": [
    "def job():\n",
    "    try:\n",
    "        res=get_data(base_url)\n",
    "        res.to_csv('stopkv_data%s.csv'%date,index=False)\n",
    "        data=pd.read_csv('stopkv_data.csv')\n",
    "        data=data.append(res, sort=False)\n",
    "        log(data.shape)\n",
    "        data.to_csv('stopkv_data.csv',index=False)\n",
    "    except IOError as e:\n",
    "        log('%s error '%(e))"
   ]
  },
  {
   "cell_type": "code",
   "execution_count": 217,
   "metadata": {},
   "outputs": [
    {
     "data": {
      "text/html": [
       "<div>\n",
       "<style scoped>\n",
       "    .dataframe tbody tr th:only-of-type {\n",
       "        vertical-align: middle;\n",
       "    }\n",
       "\n",
       "    .dataframe tbody tr th {\n",
       "        vertical-align: top;\n",
       "    }\n",
       "\n",
       "    .dataframe thead th {\n",
       "        text-align: right;\n",
       "    }\n",
       "</style>\n",
       "<table border=\"1\" class=\"dataframe\">\n",
       "  <thead>\n",
       "    <tr style=\"text-align: right;\">\n",
       "      <th></th>\n",
       "      <th>date</th>\n",
       "      <th>name</th>\n",
       "      <th>sick</th>\n",
       "      <th>healed</th>\n",
       "      <th>died</th>\n",
       "      <th>date_text</th>\n",
       "    </tr>\n",
       "  </thead>\n",
       "  <tbody>\n",
       "    <tr>\n",
       "      <th>0</th>\n",
       "      <td>2020-04-10</td>\n",
       "      <td>Москва</td>\n",
       "      <td>7822</td>\n",
       "      <td>350</td>\n",
       "      <td>50</td>\n",
       "      <td>По состоянию на 10 апреля 10:30</td>\n",
       "    </tr>\n",
       "    <tr>\n",
       "      <th>1</th>\n",
       "      <td>2020-04-10</td>\n",
       "      <td>Московская область</td>\n",
       "      <td>930</td>\n",
       "      <td>66</td>\n",
       "      <td>13</td>\n",
       "      <td>По состоянию на 10 апреля 10:30</td>\n",
       "    </tr>\n",
       "    <tr>\n",
       "      <th>2</th>\n",
       "      <td>2020-04-10</td>\n",
       "      <td>Санкт-Петербург</td>\n",
       "      <td>408</td>\n",
       "      <td>43</td>\n",
       "      <td>4</td>\n",
       "      <td>По состоянию на 10 апреля 10:30</td>\n",
       "    </tr>\n",
       "    <tr>\n",
       "      <th>3</th>\n",
       "      <td>2020-04-10</td>\n",
       "      <td>Республика Коми</td>\n",
       "      <td>208</td>\n",
       "      <td>1</td>\n",
       "      <td>3</td>\n",
       "      <td>По состоянию на 10 апреля 10:30</td>\n",
       "    </tr>\n",
       "    <tr>\n",
       "      <th>4</th>\n",
       "      <td>2020-04-10</td>\n",
       "      <td>Ленинградская область</td>\n",
       "      <td>129</td>\n",
       "      <td>3</td>\n",
       "      <td>0</td>\n",
       "      <td>По состоянию на 10 апреля 10:30</td>\n",
       "    </tr>\n",
       "  </tbody>\n",
       "</table>\n",
       "</div>"
      ],
      "text/plain": [
       "         date                   name  sick healed died  \\\n",
       "0  2020-04-10                 Москва  7822    350   50   \n",
       "1  2020-04-10     Московская область   930     66   13   \n",
       "2  2020-04-10        Санкт-Петербург   408     43    4   \n",
       "3  2020-04-10        Республика Коми   208      1    3   \n",
       "4  2020-04-10  Ленинградская область   129      3    0   \n",
       "\n",
       "                         date_text  \n",
       "0  По состоянию на 10 апреля 10:30  \n",
       "1  По состоянию на 10 апреля 10:30  \n",
       "2  По состоянию на 10 апреля 10:30  \n",
       "3  По состоянию на 10 апреля 10:30  \n",
       "4  По состоянию на 10 апреля 10:30  "
      ]
     },
     "execution_count": 217,
     "metadata": {},
     "output_type": "execute_result"
    }
   ],
   "source": [
    "res.head()"
   ]
  },
  {
   "cell_type": "code",
   "execution_count": 221,
   "metadata": {},
   "outputs": [],
   "source": [
    "res.to_csv('stopkv_data%s.csv'%date,index=False)"
   ]
  },
  {
   "cell_type": "code",
   "execution_count": null,
   "metadata": {},
   "outputs": [],
   "source": []
  }
 ],
 "metadata": {
  "kernelspec": {
   "display_name": "Python 3",
   "language": "python",
   "name": "python3"
  },
  "language_info": {
   "codemirror_mode": {
    "name": "ipython",
    "version": 3
   },
   "file_extension": ".py",
   "mimetype": "text/x-python",
   "name": "python",
   "nbconvert_exporter": "python",
   "pygments_lexer": "ipython3",
   "version": "3.6.5"
  }
 },
 "nbformat": 4,
 "nbformat_minor": 2
}
