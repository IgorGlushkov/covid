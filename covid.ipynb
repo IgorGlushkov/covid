{
 "cells": [
  {
   "cell_type": "code",
   "execution_count": 2,
   "metadata": {},
   "outputs": [],
   "source": [
    "import pandas as pd\n",
    "from datetime import datetime\n",
    "import requests\n",
    "import time\n",
    "import bs4\n",
    "import re\n",
    "import json\n",
    "from apscheduler.schedulers.blocking import BlockingScheduler\n",
    "import logging"
   ]
  },
  {
   "cell_type": "code",
   "execution_count": 3,
   "metadata": {},
   "outputs": [],
   "source": [
    "base_url='https://стопкоронавирус.рф/'"
   ]
  },
  {
   "cell_type": "code",
   "execution_count": 4,
   "metadata": {},
   "outputs": [],
   "source": [
    "filename='logfile.log'\n",
    "def log(msg):\n",
    "    logging.basicConfig(format='%(asctime)s %(message)s',\n",
    "        datefmt='%m/%d/%Y %I:%M:%S %p',\n",
    "        filename=filename)\n",
    "    logging.warning(msg)"
   ]
  },
  {
   "cell_type": "code",
   "execution_count": 5,
   "metadata": {},
   "outputs": [],
   "source": [
    "def get_session(url):\n",
    "    url = url\n",
    "    s = requests.session()\n",
    "    r = s.get(url)\n",
    "    return(r)"
   ]
  },
  {
   "cell_type": "code",
   "execution_count": 6,
   "metadata": {},
   "outputs": [],
   "source": [
    "def get_data(base_url):\n",
    "    currtime = time.localtime()\n",
    "    date=time.strftime('%Y-%m-%d',currtime)\n",
    "    r = get_session(base_url)\n",
    "    soup = bs4.BeautifulSoup(r.text,'html.parser')\n",
    "    date_note=soup.find_all('div',attrs={'class':'cv-banner__description'})\n",
    "    date_text=date_note[0].string\n",
    "    reg_table = soup.find_all('div', attrs={'class':'d-map__list'})\n",
    "    res=pd.DataFrame(columns=['date','name','sick','healed','died','date_text'])\n",
    "    for tr in reg_table[0].find('table'):\n",
    "        tmp=dict()\n",
    "        name=tr.find('th').string\n",
    "        sick=tr.find_all('td')[0].get_text(' ')\n",
    "        healed=tr.find_all('td')[1].get_text(' ')\n",
    "        died=tr.find_all('td')[2].get_text(' ')\n",
    "        tmp['name']=name\n",
    "        tmp['sick']=sick\n",
    "        tmp['healed']=healed\n",
    "        tmp['died']=died\n",
    "        tmp['date_text']=date_text\n",
    "        tmp['date']=date\n",
    "        res=res.append(tmp,ignore_index=True)\n",
    "    return res\n",
    "    "
   ]
  },
  {
   "cell_type": "code",
   "execution_count": 9,
   "metadata": {},
   "outputs": [],
   "source": [
    "def job():\n",
    "    try:\n",
    "        currtime = time.localtime()\n",
    "        date=time.strftime('%Y-%m-%d',currtime)\n",
    "        res=get_data(base_url)\n",
    "        res.to_csv('stopkv_data%s.csv'%date,index=False)\n",
    "        data=pd.read_csv('stopkv_data.csv')\n",
    "        data=data.append(res, sort=False)\n",
    "        log(data.shape)\n",
    "        data.to_csv('stopkv_data.csv',index=False)\n",
    "    except IOError as e:\n",
    "        log('%s error '%(e))"
   ]
  },
  {
   "cell_type": "code",
   "execution_count": null,
   "metadata": {},
   "outputs": [],
   "source": [
    "job()\n",
    "scheduler = BlockingScheduler()\n",
    "scheduler.add_job(job, 'interval', hours=24, misfire_grace_time=4)\n",
    "scheduler.start()"
   ]
  },
  {
   "cell_type": "code",
   "execution_count": 221,
   "metadata": {},
   "outputs": [],
   "source": [
    "#res.to_csv('stopkv_data%s.csv'%date,index=False)"
   ]
  }
 ],
 "metadata": {
  "kernelspec": {
   "display_name": "Python 3",
   "language": "python",
   "name": "python3"
  },
  "language_info": {
   "codemirror_mode": {
    "name": "ipython",
    "version": 3
   },
   "file_extension": ".py",
   "mimetype": "text/x-python",
   "name": "python",
   "nbconvert_exporter": "python",
   "pygments_lexer": "ipython3",
   "version": "3.6.5"
  }
 },
 "nbformat": 4,
 "nbformat_minor": 2
}
